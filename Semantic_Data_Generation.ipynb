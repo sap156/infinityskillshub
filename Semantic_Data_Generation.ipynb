{
  "nbformat": 4,
  "nbformat_minor": 0,
  "metadata": {
    "colab": {
      "provenance": [],
      "authorship_tag": "ABX9TyOqGJSHJ0B0AgLyudBOBCek",
      "include_colab_link": true
    },
    "kernelspec": {
      "name": "python3",
      "display_name": "Python 3"
    },
    "language_info": {
      "name": "python"
    }
  },
  "cells": [
    {
      "cell_type": "markdown",
      "metadata": {
        "id": "view-in-github",
        "colab_type": "text"
      },
      "source": [
        "<a href=\"https://colab.research.google.com/github/sap156/infinityskillshub/blob/main/Semantic_Data_Generation.ipynb\" target=\"_parent\"><img src=\"https://colab.research.google.com/assets/colab-badge.svg\" alt=\"Open In Colab\"/></a>"
      ]
    },
    {
      "cell_type": "markdown",
      "source": [
        "# Generative AI for Data Professionals\n",
        "# Data Generation and Augmentation — Module 2 Part 1\n",
        "\n",
        "# 🎯 Synthetic Data Generation with AI\n",
        "\n",
        "**In this module, we will explore how Generative AI and Large Language Models (LLMs)\n",
        "can assist with data generation and augmentation.**\n",
        "\n",
        "This is one of the most impactful use cases of Generative AI, allowing us to create\n",
        "synthetic data from scratch or augment existing datasets efficiently.\n",
        "\n",
        "**Learning Objectives:**\n",
        "- ✅ Understand why synthetic data is essential for data workflows\n",
        "- ✅ Generate realistic synthetic datasets using AI\n",
        "- ✅ Create domain-specific data for various business contexts\n",
        "- ✅ Introduce controlled bias and edge cases for testing\n",
        "- ✅ Generate location-specific and targeted datasets"
      ],
      "metadata": {
        "id": "Ru3weigReial"
      }
    },
    {
      "cell_type": "markdown",
      "source": [
        "# =====================================================\n",
        "# 🔄 INTRODUCTION: WHY SYNTHETIC DATA MATTERS\n",
        "# ===============================================\n",
        "\n",
        "\n",
        "## Common Data Professional Challenges\n",
        "\n",
        "As data professionals, we often need to generate or extend datasets for various reasons:\n",
        "\n",
        "🧪 **Testing Data Pipelines:** When developing data pipelines, we need sample data that mimics real-world data\n",
        "\n",
        "🔒 **Avoiding PII Exposure:** Using real production data introduces privacy risks, especially with\n",
        "Personally Identifiable Information (PII). Synthetic data eliminates this risk.\n",
        "\n",
        "🐛 **Handling Edge Cases:** We need to test how our systems handle unusual or problematic data\n",
        "\n",
        "⚖️ **Fixing Imbalanced Datasets:** Real data often lacks representation in certain categories\n",
        "\n",
        "📊 **Development Speed:** Waiting for real data slows down development and testing cycles\n"
      ],
      "metadata": {
        "id": "HPZ82_Eyevid"
      }
    },
    {
      "cell_type": "code",
      "execution_count": null,
      "metadata": {
        "id": "0MRQFfrPd68E"
      },
      "outputs": [],
      "source": [
        "# Example of traditional random generation\n",
        "import random\n",
        "import datetime\n",
        "\n",
        "print(\"🔧 Traditional Random Data Generation:\")\n",
        "traditional_data = []\n",
        "for i in range(5):\n",
        "    customer_data = {\n",
        "        'customer_id': f'CUST{random.randint(100, 999)}',\n",
        "        'age': random.randint(18, 80),\n",
        "        'purchase_amount': round(random.uniform(10, 500), 2),\n",
        "        'date': datetime.date(2024, random.randint(1, 12), random.randint(1, 28))\n",
        "    }\n",
        "    traditional_data.append(customer_data)\n",
        "\n",
        "for data in traditional_data:\n",
        "    print(data)\n",
        "\n",
        "print(\"\\n❌ Notice: Data is technically correct but feels artificial and random\")\n",
        "print(\"✅ AI-generated data will show realistic patterns and relationships\")"
      ]
    },
    {
      "cell_type": "code",
      "source": [
        "# Install libraries\n",
        "!pip install openai pandas scikit-learn matplotlib"
      ],
      "metadata": {
        "id": "UFdc13g-fG22"
      },
      "execution_count": null,
      "outputs": []
    },
    {
      "cell_type": "code",
      "source": [
        "# Generate Synthetic Data Example 1\n",
        "\n",
        "from openai import OpenAI\n",
        "import pandas as pd\n",
        "import json\n",
        "import numpy as np\n",
        "from pprint import pprint\n",
        "from google.colab import userdata\n",
        "\n",
        "api_key = userdata.get('OPENAI_API_KEY')\n",
        "\n",
        "# Initialize OpenAI client\n",
        "client = OpenAI(api_key=api_key)\n",
        "\n",
        "prompt = \"Generate synthetic sales data for an e-commerce platform. Include fields for date, customer_id (Customer ###), order total (in $USD). For certain orders, the order total should be negative. Create data for 10 customers. Output in JSON form.\"\n",
        "\n",
        "\n",
        "response = client.chat.completions.create(\n",
        "    model=\"gpt-4o-mini\",\n",
        "    messages=[\n",
        "        {\"role\": \"user\",\n",
        "         \"content\": prompt\n",
        "         }\n",
        "        ],\n",
        "    response_format={\"type\": \"json_object\"}\n",
        ")\n",
        "\n",
        "customer_data = json.loads(response.choices[0].message.content)\n",
        "print(json.dumps(customer_data, indent=2))\n",
        "\n",
        "\n"
      ],
      "metadata": {
        "id": "K5cC5C8dgFCu"
      },
      "execution_count": null,
      "outputs": []
    },
    {
      "cell_type": "code",
      "source": [
        "# Convert to DataFrame\n",
        "def clean(dict_variable):\n",
        "    return next(iter(dict_variable.values()))\n",
        "\n",
        "df_customers = pd.DataFrame(clean(customer_data))\n",
        "print(df_customers)"
      ],
      "metadata": {
        "id": "pls2xS6xhBBg"
      },
      "execution_count": null,
      "outputs": []
    },
    {
      "cell_type": "code",
      "source": [
        "# Generate Synthetic Data Example 2\n",
        "\n",
        "prompt = \"Generate 5 synthetic product reviews for a smartphone. Include fields for review_id, rating (1-5), and review_text. Output in JSON form.\"\n",
        "\n",
        "\n",
        "response = client.chat.completions.create(\n",
        "    model=\"gpt-4o-mini\",\n",
        "    messages=[\n",
        "        {\"role\": \"user\",\n",
        "         \"content\": prompt\n",
        "         }\n",
        "        ],\n",
        "    response_format={\"type\": \"json_object\"}\n",
        ")\n",
        "\n",
        "product_data = json.loads(response.choices[0].message.content)\n",
        "print(json.dumps(product_data, indent=2))\n",
        "\n",
        "df_product = pd.DataFrame(clean(product_data))\n",
        "print(df_product)\n"
      ],
      "metadata": {
        "id": "xVrBi7_8hY5X"
      },
      "execution_count": null,
      "outputs": []
    }
  ]
}