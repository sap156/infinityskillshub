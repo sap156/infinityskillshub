{
  "nbformat": 4,
  "nbformat_minor": 0,
  "metadata": {
    "colab": {
      "provenance": [],
      "authorship_tag": "ABX9TyPNYfZqvJU3ry+Ef5fCM/90",
      "include_colab_link": true
    },
    "kernelspec": {
      "name": "python3",
      "display_name": "Python 3"
    },
    "language_info": {
      "name": "python"
    }
  },
  "cells": [
    {
      "cell_type": "markdown",
      "metadata": {
        "id": "view-in-github",
        "colab_type": "text"
      },
      "source": [
        "<a href=\"https://colab.research.google.com/github/sap156/infinityskillshub/blob/main/PII_and_Imbalanced_data.ipynb\" target=\"_parent\"><img src=\"https://colab.research.google.com/assets/colab-badge.svg\" alt=\"Open In Colab\"/></a>"
      ]
    },
    {
      "cell_type": "markdown",
      "source": [
        "# Generative AI for Data Professionals\n",
        "# Data Generation and Augmentation — Part 4\n",
        "# Handling PII and Imbalanced Data\n",
        "\n",
        "\n",
        "# 🔒 PII Handling and Imbalanced Data Solutions\n",
        "\n",
        "**Handling Personally Identifiable Information (PII) is a critical task for data engineers,\n",
        "particularly in industries such as banking, healthcare, and government. Ensuring that\n",
        "datasets do not expose sensitive information is essential for compliance, security,\n",
        "and ethical data handling.**\n",
        "\n",
        "Traditional AI and rule-based methods have limitations, but **Generative AI** offers\n",
        "enhanced flexibility, allowing data engineers to:\n",
        "- **Mask PII while preserving useful features** (e.g., keeping email domains but masking usernames)\n",
        "- **Generate synthetic data that mimics real data without revealing actual PII**\n",
        "- **Process text data to redact PII dynamically**\n",
        "\n",
        "Another significant challenge is handling **imbalanced datasets** where one category\n",
        "significantly outweighs another (e.g., fraud detection, medical diagnoses).\n",
        "Generative AI helps balance these datasets by generating synthetic observations.\n",
        "\n",
        "**Learning Objectives:**\n",
        "- ✅ Understand PII detection and masking with AI\n",
        "- ✅ Create synthetic data while preserving distributions\n",
        "- ✅ Handle imbalanced datasets with intelligent augmentation\n",
        "- ✅ Apply selective masking for complex scenarios\n",
        "- ✅ Master text-based PII redaction techniques"
      ],
      "metadata": {
        "id": "ZNR_6YOXcKMM"
      }
    },
    {
      "cell_type": "code",
      "execution_count": 1,
      "metadata": {
        "colab": {
          "base_uri": "https://localhost:8080/"
        },
        "id": "8mCpkM5WcHGk",
        "outputId": "8f74074c-ae07-4652-f717-15340a73291b"
      },
      "outputs": [
        {
          "output_type": "stream",
          "name": "stdout",
          "text": [
            "✅ Environment ready for time series generation!\n"
          ]
        }
      ],
      "source": [
        "# =====================================================\n",
        "# 🛠️ SETUP AND IMPORTS\n",
        "# =====================================================\n",
        "\n",
        "from openai import OpenAI\n",
        "import pandas as pd\n",
        "import json\n",
        "import numpy as np\n",
        "from pprint import pprint\n",
        "import matplotlib.pyplot as plt\n",
        "from google.colab import userdata\n",
        "\n",
        "\n",
        "api_key=userdata.get('OPENAI_API_KEY')\n",
        "\n",
        "# Set up our AI client securely\n",
        "client = OpenAI(api_key=api_key)\n",
        "\n",
        "def clean(dict_variable):\n",
        "    return next(iter(dict_variable.values()))\n",
        "\n",
        "print(\"✅ Environment ready for time series generation!\")"
      ]
    },
    {
      "cell_type": "markdown",
      "source": [
        "# =====================================================\n",
        "# 👤 CREATING SAMPLE DATASET WITH PII\n",
        "# =====================================================\n",
        "\n",
        "\n",
        "## Creating a Sample Dataset with PII\n",
        "\n",
        "To demonstrate PII handling, let's first create a simple DataFrame containing PII\n",
        "such as names, emails, and phone numbers, along with age and salary fields\n",
        "that should remain unchanged."
      ],
      "metadata": {
        "id": "m3z2S-UIch3j"
      }
    },
    {
      "cell_type": "code",
      "source": [
        "# 1. Creating a Sample Dataset with PII\n",
        "data = {\n",
        "    'Name': ['John Doe', 'Jane Smith', 'Bob Johnson'],\n",
        "    'Email': ['john@gmail.com', 'jane@yahoo.com', 'bob@aol.com'],\n",
        "    'Phone': ['123-456-7890', '234-567-8901', '345-678-9012'],\n",
        "    'Age': [30, 25, 45],\n",
        "    'Salary': [50000, 60000, 75000]\n",
        "}\n",
        "\n",
        "df = pd.DataFrame(data)\n",
        "print(\"📊 Original Dataset with PII:\")\n",
        "print(df)\n"
      ],
      "metadata": {
        "colab": {
          "base_uri": "https://localhost:8080/"
        },
        "id": "alzk9_glcYL2",
        "outputId": "b77241ee-6fed-4929-8583-87858e554314"
      },
      "execution_count": 2,
      "outputs": [
        {
          "output_type": "stream",
          "name": "stdout",
          "text": [
            "📊 Original Dataset with PII:\n",
            "          Name           Email         Phone  Age  Salary\n",
            "0     John Doe  john@gmail.com  123-456-7890   30   50000\n",
            "1   Jane Smith  jane@yahoo.com  234-567-8901   25   60000\n",
            "2  Bob Johnson     bob@aol.com  345-678-9012   45   75000\n"
          ]
        }
      ]
    },
    {
      "cell_type": "markdown",
      "source": [
        "🎯 **The Challenge:** This dataset contains sensitive PII (names, emails, phone numbers)\n",
        "that needs protection, while preserving valuable business data (age, salary) for analysis.\n",
        "\"\"\""
      ],
      "metadata": {
        "id": "fsf2ixTScmj0"
      }
    },
    {
      "cell_type": "markdown",
      "source": [
        "# =====================================================\n",
        "# 🔒 PII MASKING USING GENERATIVE AI\n",
        "# =====================================================\n",
        "\n",
        "\n",
        "## PII Masking Using Generative AI\n",
        "\n",
        "We can use GPT-4o-mini to detect and mask PII while keeping useful non-sensitive\n",
        "information, such as age and salary."
      ],
      "metadata": {
        "id": "UFYomupmcsqc"
      }
    },
    {
      "cell_type": "code",
      "source": [
        "# 2. PII Masking Using Generative AI\n",
        "prompt = f\"\"\"Mask the following PII data. Keep the Age and Salary as is. Output in JSON form. Original data: {df.to_json(orient='records')}\"\"\"\n",
        "\n",
        "response = client.chat.completions.create(\n",
        "    model=\"gpt-4o-mini\",\n",
        "    messages=[{\"role\": \"user\", \"content\": prompt}],\n",
        "    response_format={\"type\": \"json_object\"}\n",
        ")\n",
        "\n",
        "masked_data = json.loads(response.choices[0].message.content)\n",
        "masked_df = pd.DataFrame(clean(masked_data))\n",
        "\n",
        "print(\"🔒 Masked Dataset:\")\n",
        "print(masked_df)"
      ],
      "metadata": {
        "colab": {
          "base_uri": "https://localhost:8080/"
        },
        "id": "tQtRmq-Rcpje",
        "outputId": "2bd1812b-243f-4882-c938-27f16eb2a6bd"
      },
      "execution_count": 4,
      "outputs": [
        {
          "output_type": "stream",
          "name": "stdout",
          "text": [
            "🔒 Masked Dataset:\n",
            "         Name          Email          Phone  Age  Salary\n",
            "0   **** ****  ****@****.com  ****-***-****   30   50000\n",
            "1  **** *****  ****@****.com  ****-***-****   25   60000\n",
            "2  *** ******  ****@****.com  ****-***-****   45   75000\n"
          ]
        }
      ]
    },
    {
      "cell_type": "markdown",
      "source": [
        "**Why Not Just Remove PII Columns?**\n",
        "\n",
        "You might wonder: *Why not simply drop the name, email, and phone columns?*\n",
        "\n",
        "- In **real-world scenarios**, PII may be **embedded** in other columns, such as a \"Name & Profession\" field\n",
        "- Some columns may contain both **PII and valuable features**, such as **email domains** used for customer segmentation\n",
        "- **Traditional masking methods** often require manual intervention, whereas Generative AI can dynamically **detect and redact** sensitive data\n",
        "\n",
        "🎯 **Key Advantage:** AI understands context and can selectively mask only the sensitive parts.\n",
        "\n"
      ],
      "metadata": {
        "id": "LF0g98hydacI"
      }
    },
    {
      "cell_type": "markdown",
      "source": [
        "# =====================================================\n",
        "# 🎯 SELECTIVE MASKING: RETAINING IMPORTANT FEATURES\n",
        "# =====================================================\n",
        "\n",
        "\n",
        "## Selective Masking: Retaining Important Features\n",
        "\n",
        "Generative AI allows us to mask only PII while retaining useful information,\n",
        "such as email domains and professions."
      ],
      "metadata": {
        "id": "c1ZM5YdJdkcr"
      }
    },
    {
      "cell_type": "code",
      "source": [
        "# 3. Selective Masking: Retaining Important Features\n",
        "prompt_selective = f\"\"\"Mask the names in the following dataset but keep last name and email domains intact. Output in JSON form.\n",
        "Original data:\n",
        "{df.to_json(orient='records')}\n",
        "\"\"\"\n",
        "\n",
        "response_selective = client.chat.completions.create(\n",
        "    model=\"gpt-4o-mini\",\n",
        "    messages=[{\"role\": \"user\", \"content\": prompt_selective}],\n",
        "    response_format={\"type\": \"json_object\"}\n",
        ")\n",
        "\n",
        "selective_masked_data = json.loads(response_selective.choices[0].message.content)\n",
        "selective_masked_df = pd.DataFrame(clean(selective_masked_data))\n",
        "\n",
        "print(\"🎯 Selectively Masked Dataset (Preserving Email Domains):\")\n",
        "print(selective_masked_df)\n"
      ],
      "metadata": {
        "colab": {
          "base_uri": "https://localhost:8080/"
        },
        "id": "J9AT8Aw2dkK_",
        "outputId": "babf6acb-1155-4011-c9e9-7056fd431627"
      },
      "execution_count": 7,
      "outputs": [
        {
          "output_type": "stream",
          "name": "stdout",
          "text": [
            "🎯 Selectively Masked Dataset (Preserving Email Domains):\n",
            "            Name           Email         Phone  Age  Salary\n",
            "0      ***** Doe  john@gmail.com  123-456-7890   30   50000\n",
            "1    ***** Smith  jane@yahoo.com  234-567-8901   25   60000\n",
            "2  ***** Johnson     bob@aol.com  345-678-9012   45   75000\n"
          ]
        }
      ]
    },
    {
      "cell_type": "markdown",
      "source": [
        "🎯 **Business Value:** Email domains can be crucial for customer segmentation\n",
        "(gmail.com vs corporate domains), market analysis, and campaign targeting\n",
        "while still protecting individual identity."
      ],
      "metadata": {
        "id": "EF-NlDxmd6-G"
      }
    },
    {
      "cell_type": "markdown",
      "source": [
        "# =====================================================\n",
        "# 🧬 GENERATING SYNTHETIC DATA WHILE PRESERVING DISTRIBUTIONS\n",
        "# =====================================================\n",
        "\n",
        "\n",
        "## Generating Synthetic Data While Preserving Distributions\n",
        "\n",
        "Instead of masking PII, Generative AI can also replace PII with synthetic values\n",
        "while maintaining similar data distributions."
      ],
      "metadata": {
        "id": "cr5ebIbwd-z5"
      }
    },
    {
      "cell_type": "code",
      "source": [
        "# 4. Generating Synthetic Data While Preserving Distributions\n",
        "prompt_synthetic = f\"\"\"Generate synthetic data similar to the following, but with different PII. Keep the Age and Salary distributions similar. Output in JSON form.\n",
        "Original data:\n",
        "{df.to_json(orient='records')}\n",
        "\"\"\"\n",
        "\n",
        "response_synthetic = client.chat.completions.create(\n",
        "    model=\"gpt-4o-mini\",\n",
        "    messages=[{\"role\": \"user\", \"content\": prompt_synthetic}],\n",
        "    response_format={\"type\": \"json_object\"}\n",
        ")\n",
        "\n",
        "synthetic_data = json.loads(response_synthetic.choices[0].message.content)\n",
        "synthetic_df = pd.DataFrame(clean(synthetic_data))\n",
        "\n",
        "print(\"🧬 Synthetic Dataset:\")\n",
        "print(synthetic_df)"
      ],
      "metadata": {
        "colab": {
          "base_uri": "https://localhost:8080/"
        },
        "id": "PEhctMGReDJC",
        "outputId": "f89cc569-4c8d-4fd8-c9df-f70870d19f22"
      },
      "execution_count": 10,
      "outputs": [
        {
          "output_type": "stream",
          "name": "stdout",
          "text": [
            "🧬 Synthetic Dataset:\n",
            "          Name              Email         Phone  Age  Salary\n",
            "0  Alice Brown  alice@example.com  987-654-3210   30   52000\n",
            "1   Mark White   mark@hotmail.com  876-543-2109   25   58000\n",
            "2  Emily Davis  emily@outlook.com  765-432-1098   45   74000\n"
          ]
        }
      ]
    },
    {
      "cell_type": "markdown",
      "source": [
        "**Key Benefits of Synthetic Data Generation:**\n",
        "\n",
        "- **Maintains statistical similarity** for analysis while anonymizing PII\n",
        "- **Creates internally consistent fake records** for development/testing  \n",
        "- **Avoids regulatory risks** by ensuring no real PII is exposed\n",
        "- **Enables data sharing** across teams without privacy concerns\n",
        "\n",
        "🎯 **Perfect for:** Development environments, testing, demos, and cross-team collaboration."
      ],
      "metadata": {
        "id": "kSrJN0OufNhZ"
      }
    },
    {
      "cell_type": "markdown",
      "source": [
        "# =====================================================\n",
        "# 📝 PII MASKING IN TEXT DATA\n",
        "# =====================================================\n",
        "\n",
        "\n",
        "## PII Masking in Text Data (e.g., Customer Complaints)\n",
        "\n",
        "Beyond structured datasets, Generative AI can also scrub PII from unstructured text,\n",
        "such as customer complaints."
      ],
      "metadata": {
        "id": "ZWZIU48gfR8W"
      }
    },
    {
      "cell_type": "code",
      "source": [
        "# 5. PII Masking in Text Data (e.g., Customer Complaints)\n",
        "pii_text = 'My name is Abhinav Parvathaneni and I live in Texas, USA and I was having trouble accessing my bank account (account ID: PL6P12345). Could you please help me?'\n",
        "\n",
        "print(\"📝 Original Text with PII:\")\n",
        "print(pii_text)\n",
        "\n",
        "response_text = client.chat.completions.create(\n",
        "    model=\"gpt-4o-mini\",\n",
        "    messages=[{\"role\": \"user\", \"content\": \"Remove any PII from the following text, replace it with *: {}\".format(pii_text)}]\n",
        ")\n",
        "\n",
        "print(\"\\n🔒 Text with PII Masked:\")\n",
        "print(response_text.choices[0].message.content)"
      ],
      "metadata": {
        "colab": {
          "base_uri": "https://localhost:8080/"
        },
        "id": "EIgFTFhHfRxO",
        "outputId": "0e33f22a-ba5a-4fe2-a4c2-d8d514ea549a"
      },
      "execution_count": 14,
      "outputs": [
        {
          "output_type": "stream",
          "name": "stdout",
          "text": [
            "📝 Original Text with PII:\n",
            "My name is Abhinav Parvathaneni and I live in Texas, USA and I was having trouble accessing my bank account (account ID: PL6P12345). Could you please help me?\n",
            "\n",
            "🔒 Text with PII Masked:\n",
            "My name is * and I live in *, USA and I was having trouble accessing my bank account (account ID: *). Could you please help me?\n"
          ]
        }
      ]
    },
    {
      "cell_type": "code",
      "source": [
        "# Selective Redaction Example\n",
        "print(\"\\n🎯 Selective Redaction (Keeping Account IDs):\")\n",
        "prompt_selective_text = \"Remove any PII from the following text except for account IDs: {}\".format(pii_text)\n",
        "\n",
        "response_selective_text = client.chat.completions.create(\n",
        "    model=\"gpt-4o-mini\",\n",
        "    messages=[{\"role\": \"user\", \"content\": prompt_selective_text}]\n",
        ")\n",
        "\n",
        "print(response_selective_text.choices[0].message.content)"
      ],
      "metadata": {
        "colab": {
          "base_uri": "https://localhost:8080/"
        },
        "id": "g-u-caRVeQKl",
        "outputId": "0e60db66-7b31-4a28-d6cc-9e0919a6d88c"
      },
      "execution_count": 15,
      "outputs": [
        {
          "output_type": "stream",
          "name": "stdout",
          "text": [
            "\n",
            "🎯 Selective Redaction (Keeping Account IDs):\n",
            "I live in Texas, USA and I was having trouble accessing my bank account (account ID: PL6P12345). Could you please help me?\n"
          ]
        }
      ]
    },
    {
      "cell_type": "markdown",
      "source": [
        "**Selective Redaction Benefits:**\n",
        "\n",
        "Traditional PII removal methods may over-mask useful data. With **Generative AI**,\n",
        "we can specify **what to keep**:\n",
        "\n",
        "- **Important identifiers** (e.g., transaction IDs, account numbers) remain untouched\n",
        "- **Personal details** (names, addresses) are removed\n",
        "- **Business context** is preserved for analysis\n",
        "\n",
        "🎯 **Use Cases:** Customer support analysis, complaint categorization,\n",
        "fraud investigation (keeping case IDs but removing personal details)."
      ],
      "metadata": {
        "id": "eq9ebVfMfxrg"
      }
    },
    {
      "cell_type": "markdown",
      "source": [
        "# =====================================================\n",
        "# ⚖️ BALANCING IMBALANCED DATASETS\n",
        "# =====================================================\n",
        "\n",
        "\n",
        "## Balancing Imbalanced Datasets\n",
        "\n",
        "An **imbalanced dataset** occurs when certain categories are significantly\n",
        "underrepresented, making it difficult for models to learn effectively.\n",
        "Generative AI can generate **synthetic samples** to balance such datasets.\n",
        "\n",
        "**Example: Balancing Positive and Negative Product Reviews**"
      ],
      "metadata": {
        "id": "pfx_nZ1Vf0sL"
      }
    },
    {
      "cell_type": "code",
      "source": [
        "# Create an unbalanced dataset of product reviews\n",
        "positive_reviews = [\n",
        "    \"This product is amazing! I love it!\",\n",
        "    \"Great quality and fast shipping.\",\n",
        "    \"Exceeded my expectations. Highly recommended!\",\n",
        "    \"Best purchase I've made in years.\",\n",
        "    \"Fantastic product, will buy again.\"\n",
        "]\n",
        "\n",
        "negative_reviews = [\n",
        "    \"Disappointed with the quality.\"\n",
        "]\n",
        "\n",
        "reviews = positive_reviews + negative_reviews\n",
        "labels = [1] * len(positive_reviews) + [0] * len(negative_reviews)\n",
        "\n",
        "df_reviews = pd.DataFrame({'review': reviews, 'sentiment': labels})\n",
        "\n",
        "print(\"📊 Original Imbalanced Dataset:\")\n",
        "print(df_reviews)\n",
        "print(f\"\\n📈 Class Distribution:\")\n",
        "print(df_reviews['sentiment'].value_counts())"
      ],
      "metadata": {
        "colab": {
          "base_uri": "https://localhost:8080/"
        },
        "id": "XoF1tmLReVp7",
        "outputId": "13b607d2-e047-419a-b079-430afb9ec842"
      },
      "execution_count": 16,
      "outputs": [
        {
          "output_type": "stream",
          "name": "stdout",
          "text": [
            "📊 Original Imbalanced Dataset:\n",
            "                                          review  sentiment\n",
            "0            This product is amazing! I love it!          1\n",
            "1               Great quality and fast shipping.          1\n",
            "2  Exceeded my expectations. Highly recommended!          1\n",
            "3              Best purchase I've made in years.          1\n",
            "4             Fantastic product, will buy again.          1\n",
            "5                 Disappointed with the quality.          0\n",
            "\n",
            "📈 Class Distribution:\n",
            "sentiment\n",
            "1    5\n",
            "0    1\n",
            "Name: count, dtype: int64\n"
          ]
        }
      ]
    },
    {
      "cell_type": "code",
      "source": [
        "# Visualize imbalance\n",
        "plt.figure(figsize=(10, 5))\n",
        "plt.subplot(1, 2, 1)\n",
        "df_reviews['sentiment'].value_counts().plot(kind='bar', color=['red', 'green'])\n",
        "plt.title('Original Class Distribution (Imbalanced)')\n",
        "plt.xlabel('Sentiment')\n",
        "plt.ylabel('Count')\n",
        "plt.xticks([0, 1], ['Negative', 'Positive'], rotation=0)\n"
      ],
      "metadata": {
        "colab": {
          "base_uri": "https://localhost:8080/",
          "height": 541
        },
        "id": "wG1vLz6af_kz",
        "outputId": "21b0b5b1-1fba-4cef-e7a6-1c8b34523ef2"
      },
      "execution_count": 17,
      "outputs": [
        {
          "output_type": "execute_result",
          "data": {
            "text/plain": [
              "([<matplotlib.axis.XTick at 0x7b3b401b6950>,\n",
              "  <matplotlib.axis.XTick at 0x7b3b39e39b50>],\n",
              " [Text(0, 0, 'Negative'), Text(1, 0, 'Positive')])"
            ]
          },
          "metadata": {},
          "execution_count": 17
        },
        {
          "output_type": "display_data",
          "data": {
            "text/plain": [
              "<Figure size 1000x500 with 1 Axes>"
            ],
            "image/png": "[encoded data removed]"
          },
          "metadata": {}
        }
      ]
    },
    {
      "cell_type": "code",
      "source": [
        "# Function to generate negative reviews\n",
        "def generate_negative_review():\n",
        "    response = client.chat.completions.create(\n",
        "        model=\"gpt-4o-mini\",\n",
        "        messages=[\n",
        "            {\"role\": \"system\", \"content\": \"You are a helpful assistant that generates product reviews.\"},\n",
        "            {\"role\": \"user\", \"content\": \"Generate a negative product review similar to these negative reviews: {}. Output in JSON form.\".format(negative_reviews)}\n",
        "        ],\n",
        "        response_format={\"type\": \"json_object\"}\n",
        "    )\n",
        "    return clean(json.loads(response.choices[0].message.content))\n",
        "\n",
        "# Generate additional negative reviews\n",
        "num_to_generate = len(positive_reviews) - len(negative_reviews)\n",
        "print(f\"\\n🎲 Generating {num_to_generate} additional negative reviews...\")\n",
        "\n",
        "new_negative_reviews = [generate_negative_review() for _ in range(num_to_generate)]\n",
        "\n",
        "print(\"📝 Sample Generated Negative Reviews:\")\n",
        "for i, review in enumerate(new_negative_reviews[:3]):\n",
        "    print(f\"{i+1}. {review}\")\n",
        "\n",
        "    # Add new negative reviews to the dataset\n",
        "new_data = pd.DataFrame({'review': new_negative_reviews, 'sentiment': [0] * len(new_negative_reviews)})\n",
        "df_balanced = pd.concat([df_reviews, new_data], ignore_index=True)\n",
        "\n",
        "print(f\"\\n⚖️ Balanced Dataset:\")\n",
        "print(df_balanced)\n",
        "print(f\"\\n📈 New Class Distribution:\")\n",
        "print(df_balanced['sentiment'].value_counts())"
      ],
      "metadata": {
        "colab": {
          "base_uri": "https://localhost:8080/"
        },
        "id": "2nPUlCgcgBzP",
        "outputId": "710b7f04-0018-41f6-a950-d6b3a377c878"
      },
      "execution_count": 23,
      "outputs": [
        {
          "output_type": "stream",
          "name": "stdout",
          "text": [
            "\n",
            "🎲 Generating 4 additional negative reviews...\n",
            "📝 Sample Generated Negative Reviews:\n",
            "1. The product did not meet my expectations at all. Poor quality and it broke after just a few uses.\n",
            "2. The product did not meet my expectations. It feels cheap and not well-made.\n",
            "3. The product did not meet my expectations at all. The construction feels cheap and flimsy.\n",
            "\n",
            "⚖️ Balanced Dataset:\n",
            "                                              review  sentiment\n",
            "0                This product is amazing! I love it!          1\n",
            "1                   Great quality and fast shipping.          1\n",
            "2      Exceeded my expectations. Highly recommended!          1\n",
            "3                  Best purchase I've made in years.          1\n",
            "4                 Fantastic product, will buy again.          1\n",
            "5                     Disappointed with the quality.          0\n",
            "6  The product did not meet my expectations at al...          0\n",
            "7  The product did not meet my expectations. It f...          0\n",
            "8  The product did not meet my expectations at al...          0\n",
            "9  Very disappointed with the performance. It did...          0\n",
            "\n",
            "📈 New Class Distribution:\n",
            "sentiment\n",
            "1    5\n",
            "0    5\n",
            "Name: count, dtype: int64\n"
          ]
        }
      ]
    },
    {
      "cell_type": "code",
      "source": [
        "# Visualize balanced dataset\n",
        "plt.subplot(1, 2, 2)\n",
        "df_balanced['sentiment'].value_counts().plot(kind='bar', color=['red', 'green'])\n",
        "plt.title('Balanced Class Distribution')\n",
        "plt.xlabel('Sentiment')\n",
        "plt.ylabel('Count')\n",
        "plt.xticks([0, 1], ['Negative', 'Positive'], rotation=0)\n",
        "\n",
        "plt.tight_layout()\n",
        "plt.show()"
      ],
      "metadata": {
        "colab": {
          "base_uri": "https://localhost:8080/",
          "height": 487
        },
        "id": "s-IDQJ2QgnEo",
        "outputId": "5a708120-5cec-4654-95cc-7dba236ebe47"
      },
      "execution_count": 24,
      "outputs": [
        {
          "output_type": "display_data",
          "data": {
            "text/plain": [
              "<Figure size 640x480 with 1 Axes>"
            ],
            "image/png": "[encoded data removed]"
          },
          "metadata": {}
        }
      ]
    },
    {
      "cell_type": "markdown",
      "source": [
        "**Why Imbalanced Data Balancing Matters:**\n",
        "\n",
        "- **Prevents model bias** towards overrepresented categories\n",
        "- **Ensures fairer predictions** for underrepresented classes  \n",
        "- **Allows better generalization** for real-world applications\n",
        "- **Improves minority class detection** (crucial for fraud, medical diagnosis)\n",
        "\n",
        "🎯 **Business Impact:** A model trained on balanced data will be much better at\n",
        "detecting negative sentiment, fraud cases, or rare medical conditions."
      ],
      "metadata": {
        "id": "sdisC1Wrg75c"
      }
    },
    {
      "cell_type": "markdown",
      "source": [
        "🎯 **Professional Standards Achieved:**\n",
        "\n",
        "✅ **Privacy Compliance:** All PII successfully masked/replaced\n",
        "✅ **Feature Preservation:** Important business attributes maintained  \n",
        "✅ **Statistical Integrity:** Distributions preserved for valid analysis\n",
        "✅ **Balance Restoration:** Minority classes properly represented\n",
        "✅ **Production Ready:** Data safe for development, testing, and sharing\n",
        "\n",
        "\n",
        "# =====================================================\n",
        "# 💡 BEST PRACTICES AND RECOMMENDATIONS\n",
        "# =====================================================\n",
        "\n",
        "\n",
        "## Best Practices for PII Handling and Data Balancing\n",
        "\n",
        "**🔒 PII Protection Best Practices:**\n",
        "\n",
        "1. **Layered Approach:** Combine masking with synthetic generation for maximum protection\n",
        "2. **Selective Preservation:** Keep business-valuable features (domains, categories) while removing personal identifiers\n",
        "3. **Context Awareness:** Use AI to understand what constitutes PII in your specific domain\n",
        "4. **Validation:** Always verify that no real PII remains in processed datasets\n",
        "5. **Documentation:** Track what was masked/generated for audit trails\n",
        "\n",
        "**⚖️ Imbalanced Data Best Practices:**\n",
        "\n",
        "1. **Quality over Quantity:** Generate realistic synthetic samples rather than random duplicates\n",
        "2. **Preserve Class Characteristics:** Ensure generated samples truly represent the minority class\n",
        "3. **Gradual Balancing:** Start with small augmentations and validate model performance\n",
        "4. **Cross-Validation:** Test balanced datasets across multiple model types\n",
        "5. **Business Validation:** Have domain experts review generated samples for realism\n",
        "\n",
        "**🚨 Important Considerations:**\n",
        "\n",
        "- **Regulatory Compliance:** Always check local privacy laws (GDPR, CCPA, HIPAA)\n",
        "- **Data Lineage:** Track the source and processing of all synthetic data\n",
        "- **Model Bias:** Balanced datasets should improve fairness, not introduce new biases\n",
        "- **Performance Monitoring:** Continuously validate that synthetic data improves real-world performance"
      ],
      "metadata": {
        "id": "YVASP-mfg_Fe"
      }
    }
  ]
}