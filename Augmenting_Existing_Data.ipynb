{
  "nbformat": 4,
  "nbformat_minor": 0,
  "metadata": {
    "colab": {
      "provenance": [],
      "authorship_tag": "ABX9TyPWZD/EaPX/ll0b/n57TxZW",
      "include_colab_link": true
    },
    "kernelspec": {
      "name": "python3",
      "display_name": "Python 3"
    },
    "language_info": {
      "name": "python"
    }
  },
  "cells": [
    {
      "cell_type": "markdown",
      "metadata": {
        "id": "view-in-github",
        "colab_type": "text"
      },
      "source": [
        "<a href=\"https://colab.research.google.com/github/sap156/infinityskillshub/blob/main/Augmenting_Existing_Data.ipynb\" target=\"_parent\"><img src=\"https://colab.research.google.com/assets/colab-badge.svg\" alt=\"Open In Colab\"/></a>"
      ]
    },
    {
      "cell_type": "markdown",
      "source": [
        "# Generative AI for Data Professionals\n",
        "# Data Generation and Augmentation — Module 2 Part 2\n",
        "# Augmenting Existing Data\n",
        "\n",
        "\n",
        "# 📈 Data Augmentation with AI\n",
        "\n",
        "**Data augmentation is the process of expanding existing datasets to create more\n",
        "comprehensive and balanced data for analysis, model training, and business applications.**\n",
        "\n",
        "It allows data professionals to generate additional records while maintaining consistency\n",
        "with the original dataset, which is particularly useful when dealing with imbalanced\n",
        "datasets, data sparsity, or the need for enriched information.\n",
        "\n",
        "**Learning Objectives:**\n",
        "- ✅ Understand when and why to augment existing data\n",
        "- ✅ Expand small datasets while preserving patterns\n",
        "- ✅ Balance imbalanced datasets with targeted generation\n",
        "- ✅ Maintain statistical relationships in numerical data\n",
        "- ✅ Generate contextually relevant additional records"
      ],
      "metadata": {
        "id": "MOUsozwnT1q0"
      }
    },
    {
      "cell_type": "markdown",
      "source": [
        "# =====================================================\n",
        "# 🔄 INTRODUCTION: WHY DATA AUGMENTATION MATTERS\n",
        "# =====================================================\n",
        "\n",
        "\n",
        "## Real-Life Scenarios for Data Augmentation\n",
        "\n",
        "Augmenting existing data is crucial in real-life scenarios such as:\n",
        "\n",
        "📊 **Balancing Datasets:** When training machine learning models, having an even distribution\n",
        "of different categories is essential for better predictions. Augmentation helps by generating\n",
        "additional samples for underrepresented categories.\n",
        "\n",
        "📈 **Expanding Limited Datasets:** Sometimes, the available data is insufficient for thorough\n",
        "analysis. Generative AI can create meaningful additional records based on existing data.\n",
        "\n",
        "🔗 **Ensuring Consistency:** Augmentation preserves logical relationships within datasets,\n",
        "ensuring that newly generated records follow expected trends and patterns.\n",
        "\n",
        "🧪 **Generating Edge Cases and Anomalies:** Testing systems with various types of data,\n",
        "including outliers, helps improve their robustness.\n",
        "\n",
        "**Key Difference from Synthetic Data Generation:**\n",
        "- Synthetic data = Creating from scratch\n",
        "- Data augmentation = Expanding what you already have while preserving patterns"
      ],
      "metadata": {
        "id": "bRGC4KEeT8rg"
      }
    },
    {
      "cell_type": "markdown",
      "source": [
        "## Setting Up for Data Augmentation\n",
        "\n",
        "**Prerequisites:** Make sure you completed the Environment Setup from Video 1"
      ],
      "metadata": {
        "id": "VpcSMtCUUQOQ"
      }
    },
    {
      "cell_type": "code",
      "execution_count": 2,
      "metadata": {
        "colab": {
          "base_uri": "https://localhost:8080/"
        },
        "id": "ommaqdITTv4D",
        "outputId": "3af7d8f0-6f14-469e-deef-ebdcf064f67d"
      },
      "outputs": [
        {
          "output_type": "stream",
          "name": "stdout",
          "text": [
            "✅ Environment ready for data augmentation!\n"
          ]
        }
      ],
      "source": [
        "# Essential imports\n",
        "import pandas as pd\n",
        "import json\n",
        "import numpy as np\n",
        "from pprint import pprint\n",
        "from google.colab import userdata\n",
        "from openai import OpenAI\n",
        "\n",
        "# Set up our AI client securely\n",
        "client = OpenAI(api_key=userdata.get('OPENAI_API_KEY'))\n",
        "\n",
        "# Helper function for extracting data from nested JSON\n",
        "def clean(dict_variable):\n",
        "    return next(iter(dict_variable.values()))\n",
        "\n",
        "print(\"✅ Environment ready for data augmentation!\")"
      ]
    },
    {
      "cell_type": "markdown",
      "source": [
        "# =====================================================\n",
        "# 📱 AUGMENTING PRODUCT DATA\n",
        "# =====================================================\n",
        "\n",
        "## Generating Additional Product Data\n",
        "\n",
        "Let's start with a practical example - expanding a small product dataset while\n",
        "maintaining the same patterns and structure.\n",
        "\n",
        "**Use Case:** You have a small product catalog and need more data for testing\n",
        "your recommendation engine or pricing models."
      ],
      "metadata": {
        "id": "j5QduPNvUVyh"
      }
    },
    {
      "cell_type": "code",
      "source": [
        "# Create existing dataset\n",
        "existing_data = pd.DataFrame({\n",
        "    'product': ['iPhone 16 Pro Max', 'Samsung S24 Ultra'],\n",
        "    'price': [1200, 1500],\n",
        "    'category': ['Electronics', 'Electronics']\n",
        "})\n",
        "\n",
        "print(\"📊 Existing Data:\")\n",
        "print(existing_data)\n",
        "print(f\"\\nCurrent dataset size: {len(existing_data)} records\")\n"
      ],
      "metadata": {
        "colab": {
          "base_uri": "https://localhost:8080/"
        },
        "id": "BRk0dM3FUcFI",
        "outputId": "d99c6d74-6026-4b0e-856e-8030382ab292"
      },
      "execution_count": 3,
      "outputs": [
        {
          "output_type": "stream",
          "name": "stdout",
          "text": [
            "📊 Existing Data:\n",
            "             product  price     category\n",
            "0  iPhone 16 Pro Max   1200  Electronics\n",
            "1  Samsung S24 Ultra   1500  Electronics\n",
            "\n",
            "Current dataset size: 2 records\n"
          ]
        }
      ]
    },
    {
      "cell_type": "code",
      "source": [
        "def augment_product_data(existing_df, num_new_products=3):\n",
        "    \"\"\"\n",
        "    Augment existing product data with new similar products\n",
        "    \"\"\"\n",
        "    # Convert existing data to format suitable for AI prompt\n",
        "    existing_records = existing_df.to_dict('records')\n",
        "\n",
        "    prompt = f\"\"\"Given this product data: {existing_records},\n",
        "    generate {num_new_products} additional products in the same format,\n",
        "    maintaining similar patterns but with different values.\n",
        "\n",
        "    Keep the same structure and data types.\n",
        "    Ensure prices are realistic for the category.\n",
        "    Output as JSON with 'products' array.\"\"\"\n",
        "\n",
        "    response = client.chat.completions.create(\n",
        "        model=\"gpt-4o-mini\",\n",
        "        messages=[{\"role\": \"user\", \"content\": prompt}],\n",
        "        response_format={\"type\": \"json_object\"}\n",
        "    )\n",
        "\n",
        "    return json.loads(response.choices[0].message.content)"
      ],
      "metadata": {
        "id": "DYjMJ5S_U5a0"
      },
      "execution_count": 4,
      "outputs": []
    },
    {
      "cell_type": "code",
      "source": [
        "# Generate additional products\n",
        "print(\"\\n🎲 Generating additional products...\")\n",
        "new_products_data = augment_product_data(existing_data, 3)\n",
        "\n",
        "print(\"\\n📋 Generated New Products (JSON):\")\n",
        "print(json.dumps(new_products_data, indent=2))\n",
        "\n",
        "# Convert to DataFrame\n",
        "new_products_df = pd.DataFrame(new_products_data['products'])\n",
        "print(\"\\n📊 Generated New Products (DataFrame):\")\n",
        "print(new_products_df)\n",
        "\n",
        "# Combine original and augmented data\n",
        "augmented_products_df = pd.concat([existing_data, new_products_df], ignore_index=True)\n",
        "\n",
        "print(f\"\\n📈 Augmented Dataset:\")\n",
        "print(augmented_products_df)\n",
        "print(f\"\\nDataset expanded from {len(existing_data)} to {len(augmented_products_df)} records\")\n"
      ],
      "metadata": {
        "colab": {
          "base_uri": "https://localhost:8080/"
        },
        "id": "9S9OE7bIU8pX",
        "outputId": "7c662b43-b892-4bd0-81c6-65556e1ced59"
      },
      "execution_count": 6,
      "outputs": [
        {
          "output_type": "stream",
          "name": "stdout",
          "text": [
            "\n",
            "🎲 Generating additional products...\n",
            "\n",
            "📋 Generated New Products (JSON):\n",
            "{\n",
            "  \"products\": [\n",
            "    {\n",
            "      \"product\": \"iPhone 16 Pro Max\",\n",
            "      \"price\": 1200,\n",
            "      \"category\": \"Electronics\"\n",
            "    },\n",
            "    {\n",
            "      \"product\": \"Samsung S24 Ultra\",\n",
            "      \"price\": 1500,\n",
            "      \"category\": \"Electronics\"\n",
            "    },\n",
            "    {\n",
            "      \"product\": \"Google Pixel 8 Pro\",\n",
            "      \"price\": 999,\n",
            "      \"category\": \"Electronics\"\n",
            "    },\n",
            "    {\n",
            "      \"product\": \"OnePlus 11\",\n",
            "      \"price\": 749,\n",
            "      \"category\": \"Electronics\"\n",
            "    },\n",
            "    {\n",
            "      \"product\": \"Sony Xperia 1 V\",\n",
            "      \"price\": 1099,\n",
            "      \"category\": \"Electronics\"\n",
            "    }\n",
            "  ]\n",
            "}\n",
            "\n",
            "📊 Generated New Products (DataFrame):\n",
            "              product  price     category\n",
            "0   iPhone 16 Pro Max   1200  Electronics\n",
            "1   Samsung S24 Ultra   1500  Electronics\n",
            "2  Google Pixel 8 Pro    999  Electronics\n",
            "3          OnePlus 11    749  Electronics\n",
            "4     Sony Xperia 1 V   1099  Electronics\n",
            "\n",
            "📈 Augmented Dataset:\n",
            "              product  price     category\n",
            "0   iPhone 16 Pro Max   1200  Electronics\n",
            "1   Samsung S24 Ultra   1500  Electronics\n",
            "2   iPhone 16 Pro Max   1200  Electronics\n",
            "3   Samsung S24 Ultra   1500  Electronics\n",
            "4  Google Pixel 8 Pro    999  Electronics\n",
            "5          OnePlus 11    749  Electronics\n",
            "6     Sony Xperia 1 V   1099  Electronics\n",
            "\n",
            "Dataset expanded from 2 to 7 records\n"
          ]
        }
      ]
    },
    {
      "cell_type": "markdown",
      "source": [
        "🎯 **Key Observations:**\n",
        "\n",
        "Notice how the AI maintained:\n",
        "- Similar price ranges appropriate for electronics\n",
        "- Consistent category classification\n",
        "- Realistic product names that fit the pattern\n",
        "- Proper data structure and types\n",
        "\n",
        "This contextual intelligence ensures the augmented data feels natural and usable!"
      ],
      "metadata": {
        "id": "Z2jTu1xMUvNN"
      }
    },
    {
      "cell_type": "markdown",
      "source": [
        "# =====================================================\n",
        "# 📊 AUGMENTING NUMERICAL DATA WITH RELATIONSHIPS\n",
        "# =====================================================\n",
        "\n",
        "\n",
        "## Preserving Statistical Relationships\n",
        "\n",
        "Traditional data augmentation may not preserve important relationships within datasets,\n",
        "such as age-income correlations. Generative AI can maintain these relationships while\n",
        "generating new data points.\n",
        "\n",
        "**Use Case:** You have customer demographic data and need more samples for analysis\n",
        "while preserving realistic age-income relationships."
      ],
      "metadata": {
        "id": "2hnfNToGUbb4"
      }
    },
    {
      "cell_type": "code",
      "source": [
        "# Original dataset with relationships\n",
        "original_data = [\n",
        "    {\"id\": 1, \"age\": 25, \"income\": 50000},\n",
        "    {\"id\": 2, \"age\": 40, \"income\": 75000}\n",
        "]\n",
        "\n",
        "print(\"📊 Original Data:\")\n",
        "print(json.dumps(original_data, indent=2))\n",
        "\n",
        "# Convert to DataFrame for analysis\n",
        "original_df = pd.DataFrame(original_data)\n",
        "print(f\"\\nOriginal correlation (age vs income): {original_df['age'].corr(original_df['income']):.3f}\")\n"
      ],
      "metadata": {
        "colab": {
          "base_uri": "https://localhost:8080/"
        },
        "id": "-8Wkn1HbVcaI",
        "outputId": "7410e771-e0a8-4a4a-9d4f-5bc388a226b9"
      },
      "execution_count": 7,
      "outputs": [
        {
          "output_type": "stream",
          "name": "stdout",
          "text": [
            "📊 Original Data:\n",
            "[\n",
            "  {\n",
            "    \"id\": 1,\n",
            "    \"age\": 25,\n",
            "    \"income\": 50000\n",
            "  },\n",
            "  {\n",
            "    \"id\": 2,\n",
            "    \"age\": 40,\n",
            "    \"income\": 75000\n",
            "  }\n",
            "]\n",
            "\n",
            "Original correlation (age vs income): 1.000\n"
          ]
        }
      ]
    },
    {
      "cell_type": "code",
      "source": [
        "def augment_numerical_data(original_data, num_new_records=3):\n",
        "    \"\"\"\n",
        "    Augment numerical data while preserving relationships\n",
        "    \"\"\"\n",
        "    prompt = f\"\"\"Generate {num_new_records} new data points similar to these,\n",
        "    maintaining realistic relationships between age and income.\n",
        "\n",
        "    Key requirements:\n",
        "    - Preserve the positive correlation between age and income\n",
        "    - Use realistic age ranges (20-65)\n",
        "    - Use realistic income ranges ($30K-$120K)\n",
        "    - Increment IDs appropriately\n",
        "\n",
        "    Original data: {json.dumps(original_data)}\n",
        "\n",
        "    Output as JSON with 'records' array.\"\"\"\n",
        "\n",
        "    response = client.chat.completions.create(\n",
        "        model=\"gpt-4o-mini\",\n",
        "        messages=[{\"role\": \"user\", \"content\": prompt}],\n",
        "        response_format={\"type\": \"json_object\"}\n",
        "    )\n",
        "\n",
        "    return json.loads(response.choices[0].message.content)"
      ],
      "metadata": {
        "id": "L6IXl4BjVfEq"
      },
      "execution_count": 8,
      "outputs": []
    },
    {
      "cell_type": "code",
      "source": [
        "# Generate additional records\n",
        "print(\"\\n🎲 Generating additional records...\")\n",
        "new_data_response = augment_numerical_data(original_data, 3)\n",
        "new_data = new_data_response['records']\n",
        "\n",
        "print(\"\\n📋 Generated New Records:\")\n",
        "print(json.dumps(new_data, indent=2))\n",
        "\n",
        "# Combine original and new data\n",
        "augmented_data = original_data + new_data\n",
        "\n",
        "print(\"\\n📊 Complete Augmented Dataset:\")\n",
        "augmented_df = pd.DataFrame(augmented_data).sort_values('age')\n",
        "print(augmented_df)"
      ],
      "metadata": {
        "colab": {
          "base_uri": "https://localhost:8080/"
        },
        "id": "HA_-PrCVVl1-",
        "outputId": "dc6cacbe-cc49-45a0-b721-03c28c5b5b38"
      },
      "execution_count": 9,
      "outputs": [
        {
          "output_type": "stream",
          "name": "stdout",
          "text": [
            "\n",
            "🎲 Generating additional records...\n",
            "\n",
            "📋 Generated New Records:\n",
            "[\n",
            "  {\n",
            "    \"id\": 3,\n",
            "    \"age\": 30,\n",
            "    \"income\": 60000\n",
            "  },\n",
            "  {\n",
            "    \"id\": 4,\n",
            "    \"age\": 50,\n",
            "    \"income\": 100000\n",
            "  },\n",
            "  {\n",
            "    \"id\": 5,\n",
            "    \"age\": 35,\n",
            "    \"income\": 70000\n",
            "  }\n",
            "]\n",
            "\n",
            "📊 Complete Augmented Dataset:\n",
            "   id  age  income\n",
            "0   1   25   50000\n",
            "2   3   30   60000\n",
            "4   5   35   70000\n",
            "1   2   40   75000\n",
            "3   4   50  100000\n"
          ]
        }
      ]
    },
    {
      "cell_type": "code",
      "source": [
        "# Analyze relationship preservation\n",
        "print(f\"\\n🔍 Relationship Analysis:\")\n",
        "print(f\"- Original correlation: {original_df['age'].corr(original_df['income']):.3f}\")\n",
        "print(f\"- Augmented correlation: {augmented_df['age'].corr(augmented_df['income']):.3f}\")\n",
        "print(f\"- Age range: {augmented_df['age'].min()} - {augmented_df['age'].max()}\")\n",
        "print(f\"- Income range: ${augmented_df['income'].min():,} - ${augmented_df['income'].max():,}\")\n"
      ],
      "metadata": {
        "colab": {
          "base_uri": "https://localhost:8080/"
        },
        "id": "JovSrKkKVsYg",
        "outputId": "45d706e0-f6c4-4cb7-e961-d6badf6513bd"
      },
      "execution_count": 11,
      "outputs": [
        {
          "output_type": "stream",
          "name": "stdout",
          "text": [
            "\n",
            "🔍 Relationship Analysis:\n",
            "- Original correlation: 1.000\n",
            "- Augmented correlation: 0.993\n",
            "- Age range: 25 - 50\n",
            "- Income range: $50,000 - $100,000\n"
          ]
        }
      ]
    },
    {
      "cell_type": "markdown",
      "source": [
        "🎯 **Relationship Preservation Success:**\n",
        "\n",
        "The AI successfully maintained the positive correlation between age and income while:\n",
        "- Generating realistic age and income values\n",
        "- Preserving the overall statistical relationship\n",
        "- Creating diverse but consistent data points\n",
        "- Following the existing data patterns"
      ],
      "metadata": {
        "id": "KUupbF5lV5wr"
      }
    }
  ]
}